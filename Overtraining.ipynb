{
 "cells": [
  {
   "cell_type": "markdown",
   "metadata": {},
   "source": [
    "# For overtraining\n"
   ]
  },
  {
   "cell_type": "markdown",
   "metadata": {},
   "source": [
    "多層パーセプトロンは層の数やノードの数を増やすことで、どんな関数でも近似することができます。\n",
    "一方で、その表現力の高さ故に__過学習__を引き起こします。\n",
    "\n",
    "$y=sin(x)$にノイズがのったデータを多層パーセプトロンで近似することを考えましょう。\n",
    "まずは中間層が1層で、中間層のノード数が4の多層パーセプトロンでデータ点をフィットします。"
   ]
  },
  {
   "cell_type": "code",
   "execution_count": null,
   "metadata": {},
   "outputs": [],
   "source": [
    "#ライブラリのインポート\n",
    "from keras.models import Sequential\n",
    "from keras.layers import Dense\n",
    "import numpy as np\n",
    "import matplotlib.pyplot as plt\n",
    "%matplotlib inline\n"
   ]
  },
  {
   "cell_type": "code",
   "execution_count": null,
   "metadata": {
    "tags": []
   },
   "outputs": [],
   "source": [
    "np.random.seed(0)\n",
    "\n",
    "nSample = 50\n",
    "\n",
    "# x=(-pi, pi), t=sin(x)\n",
    "x = np.linspace(-np.pi, np.pi, nSample)\n",
    "t0 = np.sin(x)\n",
    "t = t0 + 0.1 * np.random.randn(nSample)\n",
    "\n",
    "# モデルの定義\n",
    "model = Sequential()\n",
    "model.add(Dense(4, activation='sigmoid', input_dim=1))  # ノード数が4の層を追加。活性化関数はシグモイド関数。\n",
    "model.add(Dense(1, activation='linear'))  # ノード数が1の層を追加。活性化関数は線形関数。\n",
    "\n",
    "model.compile(loss='mean_squared_error', optimizer='adam')\n",
    "\n",
    "#  トレーニング\n",
    "model.fit(x, t, batch_size=len(x), epochs=10000, verbose=0)\n",
    "\n",
    "# プロット\n",
    "plt.scatter(x, t, s=10, c='black', label='data')  # データ点のプロット\n",
    "y = model.predict(x)\n",
    "plt.plot(x, y, c='red', label='prediction')\n",
    "plt.plot(x, t0, c='blue', label='y=sin(x)')\n",
    "plt.legend()\n",
    "plt.show()\n"
   ]
  },
  {
   "cell_type": "markdown",
   "metadata": {},
   "source": [
    "ノイズの影響で理想の線からはずれていますが、おおよそ元の関数$y=sin(x)$が表現されています。\n",
    "次に中間層が3層、中間層のノード数が40個の大きなモデルを使って同じことをしてみます。"
   ]
  },
  {
   "cell_type": "code",
   "execution_count": null,
   "metadata": {},
   "outputs": [],
   "source": [
    "np.random.seed(0)\n",
    "\n",
    "nSample = 50\n",
    "\n",
    "# x=(-pi, pi), t=sin(x)\n",
    "x = np.linspace(-np.pi, np.pi, nSample)\n",
    "t0 = np.sin(x)\n",
    "t = t0 + 0.1 * np.random.randn(nSample)\n",
    "\n",
    "# モデルの定義\n",
    "model = Sequential()\n",
    "model.add(Dense(40, activation='sigmoid', input_dim=1))  # ノード数が40の層を追加。活性化関数はシグモイド関数。\n",
    "model.add(Dense(40, activation='sigmoid'))  # ノード数が40の層を追加。活性化関数はシグモイド関数。\n",
    "model.add(Dense(40, activation='sigmoid'))  # ノード数が40の層を追加。活性化関数はシグモイド関数。\n",
    "model.add(Dense(1, activation='linear'))  # ノード数が1の層を追加。活性化関数は線形関数。\n",
    "\n",
    "model.compile(loss='mean_squared_error', optimizer='adam')\n",
    "\n",
    "#  トレーニング\n",
    "model.fit(x, t, batch_size=len(x), epochs=10000, verbose=0)\n",
    "\n",
    "# プロット\n",
    "plt.scatter(x, t, s=10, c='black', label='data')  # データ点のプロット\n",
    "y = model.predict(x)\n",
    "plt.plot(x, y, c='red', label='prediction')\n",
    "plt.plot(x, t0, c='blue', label='y=sin(x)')\n",
    "plt.legend()\n",
    "plt.show()\n"
   ]
  },
  {
   "cell_type": "markdown",
   "metadata": {},
   "source": [
    "よりデータ点をよく表現するフィットになっていますが、元の関数からはより大きくずれてしまいました。\n",
    "このように深い多層パーセプトロンを用いると、その表現力ゆえにノイズを拾ってしまい本来目的とする表現とはかけはなれたものになってしまうことがあります。"
   ]
  },
  {
   "cell_type": "markdown",
   "metadata": {},
   "source": [
    "過学習を抑制する手法としてどのようなものがあるのかを調べて上の例に適用してみてください。\n",
    "\n",
    "一例として\n",
    "- Early stopping\n",
    "- 正則化(Regularization)\n",
    "- Dropout\n",
    "\n",
    "などがあります。"
   ]
  }
 ],
 "metadata": {
  "kernelspec": {
   "display_name": "Python 3.7.3 64-bit ('myenv': venv)",
   "language": "python",
   "name": "python37364bitmyenvvenv357140d6b8384aec8a2ca97fa481d04d"
  },
  "language_info": {
   "codemirror_mode": {
    "name": "ipython",
    "version": 3
   },
   "file_extension": ".py",
   "mimetype": "text/x-python",
   "name": "python",
   "nbconvert_exporter": "python",
   "pygments_lexer": "ipython3",
   "version": "3.7.3"
  },
  "varInspector": {
   "cols": {
    "lenName": 16,
    "lenType": 16,
    "lenVar": 40
   },
   "kernels_config": {
    "python": {
     "delete_cmd_postfix": "",
     "delete_cmd_prefix": "del ",
     "library": "var_list.py",
     "varRefreshCmd": "print(var_dic_list())"
    },
    "r": {
     "delete_cmd_postfix": ") ",
     "delete_cmd_prefix": "rm(",
     "library": "var_list.r",
     "varRefreshCmd": "cat(var_dic_list()) "
    }
   },
   "types_to_exclude": [
    "module",
    "function",
    "builtin_function_or_method",
    "instance",
    "_Feature"
   ],
   "window_display": false
  }
 },
 "nbformat": 4,
 "nbformat_minor": 2
}
